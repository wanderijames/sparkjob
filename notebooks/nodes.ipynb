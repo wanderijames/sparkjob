{
 "cells": [
  {
   "cell_type": "code",
   "execution_count": 1,
   "metadata": {},
   "outputs": [
    {
     "name": "stdout",
     "output_type": "stream",
     "text": [
      "LoadCSV\n",
      "GetTrainingData\n",
      "DropNullAndDuplicateRow\n",
      "DropNullColumns\n",
      "SetTrainingData\n",
      "BenchmarkModel\n"
     ]
    }
   ],
   "source": [
    "import pyspark\n",
    "from jobs.core.base import JobHolder\n",
    "\n",
    "tasks = JobHolder.get_registry().keys()\n",
    "for name in tasks:\n",
    "    print(name)"
   ]
  },
  {
   "cell_type": "code",
   "execution_count": 2,
   "metadata": {},
   "outputs": [],
   "source": [
    "sc = pyspark.SparkContext('local[*]')"
   ]
  },
  {
   "cell_type": "code",
   "execution_count": 3,
   "metadata": {},
   "outputs": [],
   "source": [
    "Task1 = JobHolder.get_registry()[\"LoadCSV\"]\n",
    "job1 = Task1(sc, filename=\"data_source/lending-club-loan-data/loan.csv.gz\")\n",
    "temp_table_1 = job1.execute()"
   ]
  },
  {
   "cell_type": "code",
   "execution_count": 4,
   "metadata": {},
   "outputs": [],
   "source": [
    "Task2 = JobHolder.get_registry()[\"GetTrainingData\"]\n",
    "job2 = Task2(sc, previous_job_temp_table=temp_table_1)\n",
    "temp_table_2 = job2.execute()"
   ]
  },
  {
   "cell_type": "code",
   "execution_count": 6,
   "metadata": {},
   "outputs": [
    {
     "data": {
      "text/plain": [
       "{'num_records': 483917,\n",
       " 'num_columns': 139,\n",
       " 'execution_time': 72.57651352882385}"
      ]
     },
     "execution_count": 6,
     "metadata": {},
     "output_type": "execute_result"
    }
   ],
   "source": [
    "Task3 = JobHolder.get_registry()[\"DropNullAndDuplicateRow\"]\n",
    "job3 = Task3(sc, previous_job_temp_table=temp_table_2, na_threshold=\"0.7\")\n",
    "results3 = [res for res in job3.execute_extra()]\n",
    "temp_table_3 = results3[0]\n",
    "\n",
    "job3.get_metrics()"
   ]
  },
  {
   "cell_type": "code",
   "execution_count": 7,
   "metadata": {},
   "outputs": [
    {
     "data": {
      "text/plain": [
       "{'num_records': 483917,\n",
       " 'num_columns': 100,\n",
       " 'columns_dropped': 39,\n",
       " 'execution_time': 228.3570773601532}"
      ]
     },
     "execution_count": 7,
     "metadata": {},
     "output_type": "execute_result"
    }
   ],
   "source": [
    "Task4 = JobHolder.get_registry()[\"DropNullColumns\"]\n",
    "job4 = Task4(sc, previous_job_temp_table=temp_table_3, na_threshold=\"0.7\")\n",
    "results4 = [res for res in job4.execute_extra()]\n",
    "temp_table_4 = results4[0]\n",
    "\n",
    "job4.get_metrics()"
   ]
  },
  {
   "cell_type": "code",
   "execution_count": 57,
   "metadata": {},
   "outputs": [
    {
     "data": {
      "text/plain": [
       "{'num_records': 483916,\n",
       " 'num_columns': 88,\n",
       " 'execution_time': 1136.5675299167633}"
      ]
     },
     "execution_count": 57,
     "metadata": {},
     "output_type": "execute_result"
    }
   ],
   "source": [
    "Task5 = JobHolder.get_registry()[\"SetTrainingData\"]\n",
    "job5 = Task5(sc, previous_job_temp_table=temp_table_4)\n",
    "\n",
    "results5 = [res for res in job5.execute_extra()]\n",
    "temp_table_5 = results5[0]\n",
    "\n",
    "job5.get_metrics()"
   ]
  },
  {
   "cell_type": "code",
   "execution_count": 55,
   "metadata": {},
   "outputs": [],
   "source": [
    "Task6 = JobHolder.get_registry()[\"BenchmarkModel\"]\n",
    "job6 = Task6(sc, previous_job_temp_table=temp_table_5)\n",
    "results6 = [res for res in job6.execute_extra()]\n",
    "accuracy = results6[0]"
   ]
  },
  {
   "cell_type": "code",
   "execution_count": 56,
   "metadata": {},
   "outputs": [
    {
     "name": "stdout",
     "output_type": "stream",
     "text": [
      "Model accuracy\n",
      "97.07%\n"
     ]
    }
   ],
   "source": [
    "print(\"Model accuracy\")\n",
    "print(\"{:.2f}%\".format(float(accuracy) * 100))"
   ]
  },
  {
   "cell_type": "code",
   "execution_count": null,
   "metadata": {},
   "outputs": [],
   "source": []
  }
 ],
 "metadata": {
  "kernelspec": {
   "display_name": "Python 3",
   "language": "python",
   "name": "python3"
  },
  "language_info": {
   "codemirror_mode": {
    "name": "ipython",
    "version": 3
   },
   "file_extension": ".py",
   "mimetype": "text/x-python",
   "name": "python",
   "nbconvert_exporter": "python",
   "pygments_lexer": "ipython3",
   "version": "3.6.9"
  }
 },
 "nbformat": 4,
 "nbformat_minor": 2
}
